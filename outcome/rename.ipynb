{
 "cells": [
  {
   "cell_type": "code",
   "execution_count": 1,
   "metadata": {},
   "outputs": [
    {
     "name": "stdout",
     "output_type": "stream",
     "text": [
      "Files have been renamed.\n"
     ]
    }
   ],
   "source": [
    "import os\n",
    "\n",
    "# No need to set the directory if the script is in the same location\n",
    "directory = 'gpt_vote'\n",
    "\n",
    "# Define the mapping of old suffixes to new labels\n",
    "suffix_to_label = {\n",
    "    '_appr': 'appr',\n",
    "    '_cumu_1_corrected': 'cumu_corrected',\n",
    "    '_cumu': 'cumu',\n",
    "    '_kapp': 'kapp',\n",
    "    '_rank': 'rank',\n",
    "    '_reversed_id': 'reversed_id',\n",
    "    '_reversed_order': 'reversed_order'\n",
    "}\n",
    "\n",
    "# Rename files according to the mapping\n",
    "for filename in os.listdir(directory):\n",
    "    # Construct the full file path\n",
    "    old_file_path = os.path.join(directory, filename)\n",
    "    \n",
    "    # Skip if it's not a file\n",
    "    if not os.path.isfile(old_file_path):\n",
    "        continue\n",
    "    \n",
    "    # Determine the new file name based on the suffix\n",
    "    for old_suffix, new_label in suffix_to_label.items():\n",
    "        if old_suffix in filename:\n",
    "            # Determine the type (outcome or votes)\n",
    "            file_type = 'outcome' if 'outcome' in filename else 'votes'\n",
    "            # Create the new filename\n",
    "            new_filename = f'{file_type}_{new_label}'\n",
    "            # Add the correct file extension\n",
    "            new_filename += '.csv' if file_type == 'outcome' else '.json'\n",
    "            # Construct the new file path\n",
    "            new_file_path = os.path.join(directory, new_filename)\n",
    "            \n",
    "            # Rename the file\n",
    "            os.rename(old_file_path, new_file_path)\n",
    "            break  # Once the file is renamed, break out of the inner loop\n",
    "\n",
    "print(\"Files have been renamed.\")\n"
   ]
  },
  {
   "cell_type": "code",
   "execution_count": 4,
   "metadata": {},
   "outputs": [
    {
     "name": "stdout",
     "output_type": "stream",
     "text": [
      "Directories and files within 'llama_temp' have been renamed to match 'gpt_temp' logic.\n"
     ]
    }
   ],
   "source": [
    "base_directory = 'llama_temp'\n",
    "# Get all directories in the base directory\n",
    "directories = [d for d in os.listdir(base_directory) if os.path.isdir(os.path.join(base_directory, d))]\n",
    "\n",
    "# Rename directories\n",
    "for directory in directories:\n",
    "    # New directory name (e.g., 'temp0' for 'llama2_vote_temp0')\n",
    "    new_directory_name = directory.split('_')[-1]\n",
    "    \n",
    "    # Rename directory\n",
    "    os.rename(os.path.join(base_directory, directory), os.path.join(base_directory, new_directory_name))\n",
    "    \n",
    "    # Get all files in the new directory\n",
    "    files = os.listdir(os.path.join(base_directory, new_directory_name))\n",
    "    for file in files:\n",
    "        # Construct old file path\n",
    "        old_file_path = os.path.join(base_directory, new_directory_name, file)\n",
    "        \n",
    "        # New file name\n",
    "        if 'outcome' in file:\n",
    "            new_file_name = 'outcome.csv'\n",
    "        elif 'votes' in file:\n",
    "            new_file_name = 'votes.json'\n",
    "        else:\n",
    "            continue  # If the file doesn't match the expected pattern, skip it\n",
    "        \n",
    "        # Rename file\n",
    "        new_file_path = os.path.join(base_directory, new_directory_name, new_file_name)\n",
    "os.rename(old_file_path, new_file_path)\n",
    "\n",
    "print(\"Directories and files within 'llama_temp' have been renamed to match 'gpt_temp' logic.\")"
   ]
  }
 ],
 "metadata": {
  "kernelspec": {
   "display_name": "Python 3",
   "language": "python",
   "name": "python3"
  },
  "language_info": {
   "codemirror_mode": {
    "name": "ipython",
    "version": 3
   },
   "file_extension": ".py",
   "mimetype": "text/x-python",
   "name": "python",
   "nbconvert_exporter": "python",
   "pygments_lexer": "ipython3",
   "version": "3.11.2"
  },
  "orig_nbformat": 4
 },
 "nbformat": 4,
 "nbformat_minor": 2
}
