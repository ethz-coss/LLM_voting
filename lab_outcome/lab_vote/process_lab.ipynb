{
 "cells": [
  {
   "cell_type": "code",
   "execution_count": 11,
   "metadata": {},
   "outputs": [],
   "source": [
    "import json\n",
    "import csv\n",
    "\n",
    "def borda_score(ranks):\n",
    "    points = {project: (5 - rank + 1) if rank > 0 else 0 for project, rank in ranks.items()}\n",
    "    return points\n",
    "\n",
    "def aggregate_votes(voters, num_projects=24):\n",
    "    approval = {i: 0 for i in range(1, num_projects + 1)}\n",
    "    k_approval = {i: 0 for i in range(1, num_projects + 1)}\n",
    "    cumulative = {i: 0 for i in range(1, num_projects + 1)}\n",
    "    rank = {i: 0 for i in range(1, num_projects + 1)}\n",
    "\n",
    "    for voter in voters:\n",
    "        inputs = voter[\"Inputs\"]\n",
    "\n",
    "        for i, vote in enumerate(inputs[\"voteA\"], start=1):\n",
    "            if vote:\n",
    "                approval[i] += 1\n",
    "\n",
    "        for i, vote in enumerate(inputs[\"voteB\"], start=1):\n",
    "            if vote:\n",
    "                k_approval[i] += 1\n",
    "\n",
    "        for i, vote in enumerate(inputs[\"voteD\"], start=1):\n",
    "            cumulative[i] += vote\n",
    "\n",
    "        borda_scores = borda_score({i: rank for i, rank in enumerate(inputs[\"voteE\"], start=1)})\n",
    "        for i, score in borda_scores.items():\n",
    "            rank[i] += score\n",
    "\n",
    "    return approval, k_approval, cumulative, rank\n",
    "\n",
    "project_data= {1: ['Planting Workshops at Oerlikon', 'Nord', 'Nature', '5000'], 2: ['Footpath Gardens around Train Stations', 'Nord', 'Nature', '10000'], 3: ['Kid Festival at Leutschenpark', 'Nord', 'Culture', '5000'], 4: ['Music Studio at Kulturbahnhof Affoltern', 'Nord', 'Culture', '10000'], 5: ['Safe Bike Paths around Irchel Park', 'Nord', 'Transportation', '5000'], 6: ['More Night Buses to Oerlikon', 'Nord', 'Transportation', '10000'], 7: ['Free Open Badi Space in Wollishofen', 'Süd', 'Nature', '5000'], 8: ['A Neighborhood Garden for Wiedikon', 'Süd', 'Nature', '10000'], 9: ['Environmental Film Session for Kids', 'Süd', 'Culture', '5000'], 10: ['Car-free Sunday Festivals on Mutschellenstrasse', 'Süd', 'Culture', '10000'], 11: ['Free Bike Fixing Workshops', 'Süd', 'Transportation', '5000'], 12: ['Car Sharing System for Young People', 'Süd', 'Transportation', '10000'], 13: ['Transforming City Spaces under Trees into Gardens', 'Ost', 'Nature', '5000'], 14: ['More Trees in Bellevue & Sechseläutenplatz', 'Ost', 'Nature', '10000'], 15: ['Plant Festival in the City Centre', 'Ost', 'Culture', '5000'], 16: ['Multicultural Festival at Sechseläutenplatz', 'Ost', 'Culture', '10000'], 17: ['Bike Lanes on Seefeldstrasse', 'Ost', 'Transportation', '5000'], 18: ['Speed bumps in the City and the Lake Front', 'Ost', 'Transportation', '10000'], 19: ['Bird Houses for Zurich-Höngg', 'West', 'Nature', '5000'], 20: ['Wet Biotope as Learning Garden in Frankental', 'West', 'Nature', '10000'], 21: ['Dingtheke: Community Things Exchange Library in Wipkingen', 'West', 'Culture', '5000'], 22: ['Sustainable Cooking Workshop with Kids', 'West', 'Culture', '10000'], 23: ['Public Bicycle Moving Trailer to be Borrowed', 'West', 'Transportation', '5000'], 24: ['Car-free Langstrasse', 'West', 'Transportation', '10000']}\n",
    "\n",
    "with open('responses.json', 'r') as file:\n",
    "    voters = json.load(file)\n",
    "\n",
    "approval_votes, k_approval_votes, cumulative_votes, rank_votes = aggregate_votes(voters)\n",
    "\n",
    "def write_csv(vote_dict, filename):\n",
    "    sorted_votes = sorted(vote_dict.items(), key=lambda x: x[1], reverse=True)\n",
    "    with open(filename, 'w', newline='') as file:\n",
    "        writer = csv.writer(file)\n",
    "        writer.writerow(['Rank', 'Votes', 'Id', 'Name', 'District', 'Category', 'Cost'])\n",
    "        for rank, (project_id, total_votes) in enumerate(sorted_votes, start=1):\n",
    "            project_info = project_data[project_id]\n",
    "            writer.writerow([rank, total_votes, f\"#{project_id}\"] + project_info)\n",
    "\n",
    "write_csv(approval_votes, 'outcome_lab_appr.csv')\n",
    "write_csv(k_approval_votes, 'outcome_lab_kapp.csv')\n",
    "write_csv(cumulative_votes, 'outcome_lab_cumu.csv')\n",
    "write_csv(rank_votes, 'outcome_lab_rank.csv')\n"
   ]
  }
 ],
 "metadata": {
  "kernelspec": {
   "display_name": "Python 3",
   "language": "python",
   "name": "python3"
  },
  "language_info": {
   "codemirror_mode": {
    "name": "ipython",
    "version": 3
   },
   "file_extension": ".py",
   "mimetype": "text/x-python",
   "name": "python",
   "nbconvert_exporter": "python",
   "pygments_lexer": "ipython3",
   "version": "3.11.2"
  },
  "orig_nbformat": 4
 },
 "nbformat": 4,
 "nbformat_minor": 2
}
